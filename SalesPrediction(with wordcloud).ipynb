{
  "cells": [
    {
      "metadata": {
        "_cell_guid": "b1076dfc-b9ad-4769-8c92-a6c4dae69d19",
        "_uuid": "8f2839f25d086af736a60e9eeb907d3b93b6e0e5",
        "scrolled": true,
        "trusted": true,
        "collapsed": true
      },
      "cell_type": "code",
      "source": "# This Python 3 environment comes with many helpful analytics libraries installed\n# It is defined by the kaggle/python docker image: https://github.com/kaggle/docker-python\n# For example, here's several helpful packages to load in \n\nimport numpy as np # linear algebra\nimport pandas as pd # data processing, CSV file I/O (e.g. pd.read_csv)\nimport os\nfrom sklearn import *\nimport nltk, datetime\n# Input data files are available in the \"../input/\" directory.\n# For example, running this (by clicking run or pressing Shift+Enter) will list the files in the input directory\nprint(os.listdir(\"../input\"))\n\n# Any results you write to the current directory are saved as output.\ntrain = pd.read_csv('../input/sales_train.csv')\ntest = pd.read_csv('../input/test.csv')\nsubmission = pd.read_csv('../input/sample_submission.csv')\nitems = pd.read_csv('../input/items.csv')\nitem_cats = pd.read_csv('../input/item_categories.csv')\nshops = pd.read_csv('../input/shops.csv')\n\nprint(train.shape , test.shape)\nprint(train[:3])\nprint(test[:3])",
      "execution_count": null,
      "outputs": []
    },
    {
      "metadata": {
        "_cell_guid": "453dc09c-5772-481d-9cde-f49c56f33af6",
        "_kg_hide-output": false,
        "_uuid": "38a18c6f8d57fff13af5d7d9a96fafd5a7fbecae",
        "trusted": true,
        "collapsed": true
      },
      "cell_type": "code",
      "source": "#difference between train and test\n#[c for c in train.columns if c not in test.columns]\n#another good way above mentione to run loop in python\na = []\nfor c in train.columns:\n    if c not in test.columns:\n        #print(c)\n        a = c\nprint(a)\n",
      "execution_count": null,
      "outputs": []
    },
    {
      "metadata": {
        "_cell_guid": "197dceb2-a83a-46da-bd09-45e2333a75bb",
        "_kg_hide-output": true,
        "_uuid": "43bccac578ce9f59d128abd1d50c887cca4b9536",
        "trusted": true,
        "collapsed": true
      },
      "cell_type": "code",
      "source": "train.head() # train is loaded as dataframe using pandas read.csv",
      "execution_count": null,
      "outputs": []
    },
    {
      "metadata": {
        "_cell_guid": "e8e8075d-495c-4efc-9659-3bd572e1800f",
        "_kg_hide-output": true,
        "_uuid": "458c32956bb0c1e4a95bf61b7f917cf070f46eb4",
        "trusted": true,
        "collapsed": true
      },
      "cell_type": "code",
      "source": "test.head()",
      "execution_count": null,
      "outputs": []
    },
    {
      "metadata": {
        "_cell_guid": "49667b0f-ca3c-4266-9864-7acfc5fab42e",
        "_uuid": "21013ce041d5b4460893dd2c58a0faf34db94bfb",
        "trusted": true,
        "collapsed": true
      },
      "cell_type": "code",
      "source": "items.head()",
      "execution_count": null,
      "outputs": []
    },
    {
      "metadata": {
        "_cell_guid": "33d47bb1-d687-4f70-a1bc-fa369e71cd4a",
        "_uuid": "47447fd36505a37cfebb928f4c25fcca48bad74e",
        "scrolled": true,
        "trusted": true,
        "collapsed": true
      },
      "cell_type": "code",
      "source": "#bag of words\nfeature_count = 25\n#creation of bag of words using tokenization technique(i.e extraction of words seperated by delimeter here 'space')\n#one hot encoding\ntext_feature_frame= feature_extraction.text.TfidfVectorizer(max_features=feature_count)  #metadata about the vectoried text\nitems['items_name_len'] = items['item_name'].map(len) \nprint(items['items_name_len'])\nitems['items_name_wc'] = items['item_name'].map(lambda x : len(str(x).split(' ')))\nprint(items['items_name_wc'])",
      "execution_count": null,
      "outputs": []
    },
    {
      "metadata": {
        "_cell_guid": "a8c01adc-851f-47a0-871e-b01e2f749982",
        "_uuid": "251659fa58a0bdbfec464b6bb1c4f5b519603d8e",
        "scrolled": true,
        "trusted": true,
        "collapsed": true
      },
      "cell_type": "code",
      "source": "print(text_feature_frame) #metadata about the vectoried text",
      "execution_count": null,
      "outputs": []
    },
    {
      "metadata": {
        "_cell_guid": "d8019707-406e-492d-9fec-c33e78cb27dd",
        "_uuid": "87c0ecf3c6e14f0538959606c62179c07d4b0f80",
        "scrolled": false,
        "trusted": true,
        "collapsed": true
      },
      "cell_type": "code",
      "source": "#counting\ntext_feature = text_feature_frame.fit_transform(items['item_name']).toarray()  #one hot encoding\n#print(text_feature)\ntext_feature = pd.DataFrame(text_feature)\nprint(text_feature)",
      "execution_count": null,
      "outputs": []
    },
    {
      "metadata": {
        "_cell_guid": "3ec326ba-983f-4208-a663-2ba957b1218e",
        "_uuid": "1645146865505d1c39df967ecc100d2d3d5060af",
        "collapsed": true,
        "trusted": true
      },
      "cell_type": "code",
      "source": "col = text_feature.columns\nfor i in range(feature_count):\n    items['item_name_trnsfrmindf_' +str(i)] = text_feature[col[i]]",
      "execution_count": null,
      "outputs": []
    },
    {
      "metadata": {
        "_cell_guid": "25d28206-0415-4350-9be5-d96aa2172401",
        "_uuid": "6eaa38f4ea865777322e2b57768f2f655ce2b4e3",
        "scrolled": true,
        "trusted": true,
        "collapsed": true
      },
      "cell_type": "code",
      "source": "items.head()",
      "execution_count": null,
      "outputs": []
    },
    {
      "metadata": {
        "_cell_guid": "c6860c10-c348-4bfa-b56a-0f6df0f0c6bb",
        "_uuid": "898a8aa44e671388a60f7ab059ec49f3a71e8853",
        "trusted": true,
        "collapsed": true
      },
      "cell_type": "code",
      "source": "# for item_cats\nfeature_count = 25\ntext_feature_frame= feature_extraction.text.TfidfVectorizer(max_features=feature_count)  #metadata about the vectoried text  #object form \nitem_cats['item_category_name_len'] = item_cats['item_category_name'].map(len) \nprint(item_cats['item_category_name_len'])\nitem_cats['item_category_name_wc'] =item_cats['item_category_name'].map(lambda x : len(str(x).split(' ')))\nprint(item_cats['item_category_name_wc'])",
      "execution_count": null,
      "outputs": []
    },
    {
      "metadata": {
        "_cell_guid": "46869121-fdfa-41b4-b90f-fe99d175b877",
        "_uuid": "f0d9abf9502958ad178313144781d7f058b1f1c0",
        "collapsed": true,
        "trusted": true
      },
      "cell_type": "code",
      "source": "text_Features = pd.DataFrame(text_feature_frame.fit_transform(item_cats['item_category_name']).toarray()) #text_feature_frame is an object , #text_Features is a data frame holding one hot encoding\n#print(text_Features)\ncol = text_Features.columns #again col is an object holding 25 col data\nfor i in range(feature_count):\n    item_cats['item_category_name_tfidf_' + str(i)] = text_Features[col[i]]",
      "execution_count": null,
      "outputs": []
    },
    {
      "metadata": {
        "_cell_guid": "3a6f65f4-82a6-4d47-ba34-9697ac3c0d9c",
        "_uuid": "2f611f8c8485882e574596dc39129bce76bd8f2b",
        "scrolled": true,
        "trusted": true,
        "collapsed": true
      },
      "cell_type": "code",
      "source": "item_cats.head()",
      "execution_count": null,
      "outputs": []
    },
    {
      "metadata": {
        "_cell_guid": "e91d48ff-deca-4417-a8f7-bc5bdb4e62bb",
        "_uuid": "8d3a0daa7a6038aa88d00624bcc84b816ecec2da",
        "trusted": true,
        "collapsed": true
      },
      "cell_type": "code",
      "source": "#shops\nfeature_count = 25\ntext_feature_frame= feature_extraction.text.TfidfVectorizer(max_features=feature_count)  #metadata about the vectoried text  #object form \nshops['shop_name_len'] = shops['shop_name'].map(len) \nprint(shops['shop_name_len'])\nshops['shop_name_wc'] =shops['shop_name'].map(lambda x : len(str(x).split(' ')))\nprint(shops['shop_name_wc'])\n",
      "execution_count": null,
      "outputs": []
    },
    {
      "metadata": {
        "_cell_guid": "6ba005b9-cc50-44bd-8c5b-de31a98ebe89",
        "_uuid": "a6794ac304040c5ceb9f317555fb73c0d4e16913",
        "collapsed": true,
        "trusted": true
      },
      "cell_type": "code",
      "source": "text_Features = pd.DataFrame(text_feature_frame.fit_transform(shops['shop_name']).toarray()) #text_feature_frame is an object , #text_Features is a data frame holding one hot encoding\n#print(text_Features)\ncol = text_Features.columns #again col is an object holding 25 col data\nfor i in range(feature_count):\n    shops['shop_name_tfidf_' + str(i)] = text_Features[col[i]]",
      "execution_count": null,
      "outputs": []
    },
    {
      "metadata": {
        "_cell_guid": "0a0887fa-1956-4f9d-aeed-74b7238f63a4",
        "_uuid": "1b1ab1889f88d01b48135a069ae0cf69fd4e2d4d",
        "trusted": true,
        "collapsed": true
      },
      "cell_type": "code",
      "source": "shops.head()",
      "execution_count": null,
      "outputs": []
    },
    {
      "metadata": {
        "_cell_guid": "ae473644-2261-43e0-ab23-0c19ec53f45c",
        "_uuid": "7a1119a2b204605f3a0fe5237a9839c14d72e5e2",
        "trusted": true,
        "collapsed": true
      },
      "cell_type": "code",
      "source": "#train\ntrain.head()",
      "execution_count": null,
      "outputs": []
    },
    {
      "metadata": {
        "_cell_guid": "0c7be6e2-20f4-4d48-b085-eb57f4e1ab3c",
        "_uuid": "edac2a432f8ced47db900548bddd03c2dcd161bf",
        "collapsed": true,
        "trusted": true
      },
      "cell_type": "code",
      "source": "train['date'] = pd.to_datetime(train['date'], format='%d.%m.%Y')",
      "execution_count": null,
      "outputs": []
    },
    {
      "metadata": {
        "_cell_guid": "103aacda-c4e1-4519-9a5e-a6284b75f748",
        "_uuid": "cd4c2c2281f2492b1e68ee4aa983f11cc19d500e",
        "collapsed": true,
        "trusted": true
      },
      "cell_type": "code",
      "source": "train['month'] = train['date'].dt.month\ntrain['year'] = train['date'].dt.year\n#drop by default works on rows , for columns axis =1 \ntrain = train.drop(['date','item_price'], axis=1)",
      "execution_count": null,
      "outputs": []
    },
    {
      "metadata": {
        "_cell_guid": "c20d487b-586c-4a74-a6fc-74391fb85ad1",
        "_uuid": "e822ae8caa0b1197ea250485c54ba89514f1379a",
        "collapsed": true,
        "trusted": true
      },
      "cell_type": "code",
      "source": "train.head()",
      "execution_count": null,
      "outputs": []
    },
    {
      "metadata": {
        "_cell_guid": "11eeaefe-1f0d-4c03-b902-b30b20230e93",
        "_uuid": "38529fa624b6e5d16ba4d0cf5c03c52ea5ef5f2c",
        "collapsed": true,
        "trusted": true
      },
      "cell_type": "code",
      "source": "train = train.groupby([c for c in train.columns if c not in 'item_cnt_day'], as_index=False)['item_cnt_day'].sum()  #as_index=false means grouped by elements are no longer index in dataframe\n#[c for c in train.columns if c not in ['item_cnt_day']]\ntrain.head()\n#now rename item_cnt_day to item_cnt_month\ntrain = train.rename(columns={'item_cnt_day':'item_cnt_month'})\n",
      "execution_count": null,
      "outputs": []
    },
    {
      "metadata": {
        "_cell_guid": "9e4741a0-b90e-486c-89ae-da5239b4b152",
        "_uuid": "0c2bc6314b18d0c1f0690d9bf0ef928f5605fd66",
        "trusted": true,
        "collapsed": true
      },
      "cell_type": "code",
      "source": "#findng monthly mean\nmonthly_mean_shop_item = train[['shop_id','item_id','item_cnt_month']].groupby(['shop_id','item_id'], as_index=False)['item_cnt_month'].mean()\n#print(monthly_mean_shop_item)\nmonthly_mean_shop_item = monthly_mean_shop_item.rename(columns={'item_cnt_month':'month_mean_shop_item'})\nprint(monthly_mean_shop_item)\n#finding mean\ntrain = pd.merge(train,monthly_mean_shop_item ,how = \"left\" , on = ['shop_id','item_id'])\n",
      "execution_count": null,
      "outputs": []
    },
    {
      "metadata": {
        "_cell_guid": "50d38d6a-fc38-4e59-ac1d-44933af50546",
        "_uuid": "5d51a04e02011ac9bcbfae209eb414fc9429f022",
        "collapsed": true,
        "trusted": true
      },
      "cell_type": "code",
      "source": "train.tail(10)",
      "execution_count": null,
      "outputs": []
    },
    {
      "metadata": {
        "_cell_guid": "5a64117f-b6f2-42a8-9f42-f8bca5dce9d5",
        "_uuid": "b1596e24f0ae0b41b63a599c4be7a1bc2af89d78",
        "scrolled": true,
        "trusted": true,
        "collapsed": true
      },
      "cell_type": "code",
      "source": "#Last Month \n#let`s work with year 2015(10) datablock no 33\nshop_item_prev_month = train[train['date_block_num'] == 33][['shop_id','item_id','item_cnt_month']]\nshop_item_prev_month = shop_item_prev_month.rename(columns={'item_cnt_month':'item_cnt_prev_month'})\nprint(shop_item_prev_month)\n",
      "execution_count": null,
      "outputs": []
    },
    {
      "metadata": {
        "_cell_guid": "ff5e7de3-f6ec-470c-8ad8-b87f479b46eb",
        "_uuid": "2d478045e2a8ea41c1b0ac333db0d47261bbdb11",
        "collapsed": true,
        "trusted": true
      },
      "cell_type": "code",
      "source": "#Add previous month features with train data\n#also do some cleaning by replacing all nan value or null values\ntrain = pd.merge(train,shop_item_prev_month, how='left',on=['shop_id','item_id']).fillna(0.)\n",
      "execution_count": null,
      "outputs": []
    },
    {
      "metadata": {
        "_cell_guid": "86358d4d-a1bd-41e0-9d0e-e9805991769d",
        "_uuid": "ff744396e3a605e2365e136c937a5c193a2cc36a",
        "collapsed": true,
        "trusted": true
      },
      "cell_type": "code",
      "source": "train.tail()",
      "execution_count": null,
      "outputs": []
    },
    {
      "metadata": {
        "_cell_guid": "e4560d2e-0875-42e5-b24d-f403d6871d8d",
        "_uuid": "21240ce775f6279b6bc451c6b06e4d4bda783178",
        "collapsed": true,
        "trusted": true
      },
      "cell_type": "code",
      "source": "items.head()",
      "execution_count": null,
      "outputs": []
    },
    {
      "metadata": {
        "_cell_guid": "587cffab-a0da-4287-b3c8-2c6b86837821",
        "_uuid": "4c74e107f0a3f47ca23eee5a882d7bca710b2c62",
        "collapsed": true,
        "trusted": true
      },
      "cell_type": "code",
      "source": "train = pd.merge(train,items,how='left',on=['item_id'])",
      "execution_count": null,
      "outputs": []
    },
    {
      "metadata": {
        "_cell_guid": "07ba3abc-9605-4c9a-9547-d65e576f7933",
        "_kg_hide-output": true,
        "_uuid": "3c43262a205af0cabf8eadab106b6bb5aa594b23",
        "trusted": true,
        "collapsed": true
      },
      "cell_type": "code",
      "source": "train.tail()",
      "execution_count": null,
      "outputs": []
    },
    {
      "metadata": {
        "_cell_guid": "f49c71b7-740b-402d-a430-2426fa1e82b9",
        "_kg_hide-output": true,
        "_uuid": "eec3c799a478a7ea5430efd95859bb00aa60939e",
        "collapsed": true,
        "trusted": true
      },
      "cell_type": "code",
      "source": "item_cats.tail()",
      "execution_count": null,
      "outputs": []
    },
    {
      "metadata": {
        "_cell_guid": "32600977-7157-43c4-a998-0cf3ef68ad9d",
        "_kg_hide-output": true,
        "_uuid": "089864a0d11208f6d02649ed54c96c7bf7ed70e2",
        "collapsed": true,
        "trusted": true
      },
      "cell_type": "code",
      "source": "#listing all column headers of train df\nlist(train.columns.values)",
      "execution_count": null,
      "outputs": []
    },
    {
      "metadata": {
        "_cell_guid": "e240e683-f7c9-4116-95dc-020f83741901",
        "_uuid": "d23a357fef998212470748439d4966dc04c8de20",
        "collapsed": true,
        "trusted": true
      },
      "cell_type": "code",
      "source": "train = pd.merge(train , item_cats , how='left',on=[ 'item_category_id'])",
      "execution_count": null,
      "outputs": []
    },
    {
      "metadata": {
        "_cell_guid": "f22df6dd-6ee6-46c4-9f2d-f28b120ccf97",
        "_uuid": "a6375d1f3a248f8721978ac56e83e6064011aae3",
        "collapsed": true,
        "trusted": true
      },
      "cell_type": "code",
      "source": "train.tail()",
      "execution_count": null,
      "outputs": []
    },
    {
      "metadata": {
        "_cell_guid": "5034e9d6-c2b6-4cf6-905c-baf45667bd32",
        "_uuid": "4216ccc300a6a7afa0cfffcecae5bc8680911d8f",
        "collapsed": true,
        "trusted": true
      },
      "cell_type": "code",
      "source": "#shop features merge to train df\ntrain = pd.merge(train , shops, how = 'left' , on=['shop_id'])",
      "execution_count": null,
      "outputs": []
    },
    {
      "metadata": {
        "_cell_guid": "0d620470-9008-49f6-be64-abb0b51cf11b",
        "_uuid": "56cd13d0aac5cc105a08d19ce84c6048a7cf0531",
        "collapsed": true,
        "trusted": true
      },
      "cell_type": "code",
      "source": "train.tail()",
      "execution_count": null,
      "outputs": []
    },
    {
      "metadata": {
        "_cell_guid": "f29982cd-16e8-45b2-893b-cffbbd2f20a4",
        "_uuid": "b11388768c3755e8e35157d5c27b11598beae7b3",
        "collapsed": true,
        "trusted": true
      },
      "cell_type": "code",
      "source": "#playing with test dataset\ntest.tail()\n",
      "execution_count": null,
      "outputs": []
    },
    {
      "metadata": {
        "_cell_guid": "c4b983b3-3992-44b0-a051-c10c47669924",
        "_kg_hide-output": true,
        "_uuid": "9d2cf144660338d6b05d2b8c244c75b4129b1021",
        "trusted": true,
        "collapsed": true
      },
      "cell_type": "code",
      "source": "monthly_mean_shop_item .tail()",
      "execution_count": null,
      "outputs": []
    },
    {
      "metadata": {
        "_cell_guid": "025e724e-8416-4224-a218-bb399d75aa4a",
        "_kg_hide-output": true,
        "_uuid": "724c6a9cbb2a4a281981445e7ccf090ff1ba576a",
        "collapsed": true,
        "trusted": true
      },
      "cell_type": "code",
      "source": "shop_item_prev_month.tail()",
      "execution_count": null,
      "outputs": []
    },
    {
      "metadata": {
        "_cell_guid": "394fbac0-4fcc-4c60-870e-f14722a7de28",
        "_kg_hide-output": true,
        "_uuid": "2b6c377221a0928cb9ff00eb9d34bcc48e200469",
        "collapsed": true,
        "trusted": true
      },
      "cell_type": "code",
      "source": "items.tail()",
      "execution_count": null,
      "outputs": []
    },
    {
      "metadata": {
        "_cell_guid": "86e0c7fc-ae94-4242-9bd5-aa313ee33891",
        "_uuid": "6fe7eb679b61f5f51f705048c36b0e47afd0dbcc",
        "trusted": true,
        "collapsed": true
      },
      "cell_type": "code",
      "source": "test['month']=11\ntest['year'] = 2015\ntest['date_block_num'] =34\ntest.tail()\n",
      "execution_count": null,
      "outputs": []
    },
    {
      "metadata": {
        "_cell_guid": "2fc8be9e-b928-43e3-90f0-46497159b987",
        "_uuid": "905c5d1c553b8aa17ac176e011a5d3ed8990a997",
        "collapsed": true,
        "trusted": true
      },
      "cell_type": "code",
      "source": "#till oct 2015 we have data in train data set now we need to predict for nov 2015 sales for each product\ntest = pd.merge(test,monthly_mean_shop_item ,how='left',on=['shop_id','item_id']).fillna(0.)\ntest = pd.merge(test,shop_item_prev_month,how='left',on=['shop_id','item_id']).fillna(0.)\ntest = pd.merge(test,items,how='left',on=['item_id'])\ntest = pd.merge(test,item_cats,how='left',on=['item_category_id'])\ntest = pd.merge(test,shops,how='left',on=['shop_id'])\n#test['item_cnt_month']=0.\n\n",
      "execution_count": null,
      "outputs": []
    },
    {
      "metadata": {
        "_cell_guid": "090d4933-ecb8-47e4-869c-51bbb3e48ed8",
        "_uuid": "827ca08da261049f6e74824aba0c6e2582c08ed1",
        "collapsed": true,
        "trusted": true
      },
      "cell_type": "code",
      "source": "test.tail()",
      "execution_count": null,
      "outputs": []
    },
    {
      "metadata": {
        "_cell_guid": "130d9846-f8b0-4450-b0aa-cdc74e0ecb0e",
        "_uuid": "10324bf39c43bd6aab5cb9098736d8ebb0e1b82d",
        "collapsed": true,
        "trusted": true
      },
      "cell_type": "code",
      "source": "test['item_cnt_month']=0.",
      "execution_count": null,
      "outputs": []
    },
    {
      "metadata": {
        "_cell_guid": "f1cbe4c3-3c83-4e3b-a1db-614e6e0fa69d",
        "_uuid": "818e176419bb65cb1cb89ae88d023a6b1d939f0f",
        "trusted": true,
        "collapsed": true
      },
      "cell_type": "code",
      "source": "test['item_cnt_month'].values\n",
      "execution_count": null,
      "outputs": []
    },
    {
      "metadata": {
        "_cell_guid": "5f1f8162-9d95-49a6-9663-3784ca60598a",
        "_uuid": "f8c163315fa0e2c32fd2975be62216b265ac7118",
        "collapsed": true,
        "trusted": true
      },
      "cell_type": "code",
      "source": "test.tail()",
      "execution_count": null,
      "outputs": []
    },
    {
      "metadata": {
        "_cell_guid": "b7017016-560f-4bcf-94ca-bcbba81224da",
        "_uuid": "7428e70d9214cb914fe3e58037b468f4bf8cb745",
        "collapsed": true,
        "trusted": true
      },
      "cell_type": "code",
      "source": "list(test.columns.values)",
      "execution_count": null,
      "outputs": []
    },
    {
      "metadata": {
        "_cell_guid": "9cdec957-dc14-4044-9820-85297182e5b1",
        "_uuid": "6d75f13e7bb7236dffc0954ef92e5383394f62e2",
        "collapsed": true,
        "trusted": true
      },
      "cell_type": "code",
      "source": "list(train.columns.values)",
      "execution_count": null,
      "outputs": []
    },
    {
      "metadata": {
        "_cell_guid": "9aa8a3c4-7632-47eb-bc3b-eb56dbac667d",
        "_uuid": "15ba46096024b4c50db0af8e010322acb3eb9bf8",
        "collapsed": true,
        "trusted": true
      },
      "cell_type": "code",
      "source": "#visualization\nimport matplotlib.pyplot as plt #to construct plot area\nimport seaborn as sns  #for sstatistical data visulaization \nfrom PIL import Image, ImageDraw, ImageFilter\n#%matplotlib inline #to plot data inline in the notebook itself\ndf_all = pd.concat((train, test), axis=0, ignore_index=True)\n",
      "execution_count": null,
      "outputs": []
    },
    {
      "metadata": {
        "_cell_guid": "b311a744-f8f6-4692-a5e7-21312a08732b",
        "_uuid": "99bcab71bea02fb49d28286b32462b3659aa4694",
        "collapsed": true,
        "trusted": true
      },
      "cell_type": "code",
      "source": "print(df_all)",
      "execution_count": null,
      "outputs": []
    },
    {
      "metadata": {
        "_cell_guid": "a8ee041a-3f7b-41e4-bc7c-6a7218d94fd8",
        "_uuid": "95b2d668c0d1301f582e8971a52509d01e6cd2bd",
        "collapsed": true,
        "scrolled": false,
        "trusted": true
      },
      "cell_type": "code",
      "source": "list(df_all.columns.values)",
      "execution_count": null,
      "outputs": []
    },
    {
      "metadata": {
        "_cell_guid": "fc028611-c162-4f08-8f87-d2ddaf5fca1f",
        "_uuid": "20cd515e750f6bbb7010dfa516272f0c592d9e3b",
        "collapsed": true,
        "trusted": true
      },
      "cell_type": "code",
      "source": "#fill_value for nan`s \nstores_hm = df_all.pivot_table(index='shop_id', columns='item_category_id', values='item_cnt_month', aggfunc='count', fill_value=0)\n#fig, ax = plt.subplots(figsize=(10,10))\n#_ = sns.heatmap(stores_hm, ax=ax, cbar=False)",
      "execution_count": null,
      "outputs": []
    },
    {
      "metadata": {
        "_cell_guid": "a3e131c4-85a7-4a8b-a32e-94548897648a",
        "_uuid": "bc474dd8a2fa89c5c81f85d2908dedce01ad1ff8",
        "collapsed": true,
        "trusted": true
      },
      "cell_type": "code",
      "source": "stores_hm.tail()",
      "execution_count": null,
      "outputs": []
    },
    {
      "metadata": {
        "_cell_guid": "96639879-c756-463c-aa37-0bc694c09383",
        "_uuid": "c4b3ab50b6baf1629c99666b6dfde85bd4971183",
        "trusted": true,
        "collapsed": true
      },
      "cell_type": "code",
      "source": "#This plot is for count of  products(items) sold under category for different shops in all years including predictabl yr 2015 nov\n%matplotlib inline\nfig, ax = plt.subplots(figsize=(10,10))\n#generating heat map\nax = sns.heatmap(stores_hm, ax=ax, cbar=True) #cbar means colorbar , az means matplotlib Axes (optional)",
      "execution_count": null,
      "outputs": []
    },
    {
      "metadata": {
        "_cell_guid": "f01b8063-8e81-4dfe-8795-bf81e7a8c193",
        "_uuid": "36b512bf15198aaefab8e81ca470a02487dcf464",
        "trusted": true,
        "collapsed": true
      },
      "cell_type": "code",
      "source": "#this plot contains count of items sold under particular category for certain shops on nov 2015 (predictable month)\nstores_hm = test.pivot_table(index='shop_id', columns='item_category_id', values='item_cnt_month', aggfunc='count', fill_value=0) #here in values we can use any item_cnt_month or item_cnt_prev_month\n%matplotlib inline\nfig, ax = plt.subplots(figsize=(10,10))\n#generating heat map\nax = sns.heatmap(stores_hm, ax=ax, cbar=True) #cbar means colorbar , az means matplotlib Axes (optional)",
      "execution_count": null,
      "outputs": []
    },
    {
      "metadata": {
        "_cell_guid": "02e0c3a3-78c0-4baf-92df-231f1add2d91",
        "_uuid": "349e381ee4bc3fc203d5d7d38898af1cc2c8220d",
        "collapsed": true,
        "trusted": true
      },
      "cell_type": "code",
      "source": "stores_hm.tail()",
      "execution_count": null,
      "outputs": []
    },
    {
      "metadata": {
        "_cell_guid": "60efd5b3-37f3-41c3-8853-793440fa150b",
        "_uuid": "536172c523a7e7e43e372e44e12e89ce03550fc5",
        "collapsed": true,
        "trusted": true
      },
      "cell_type": "code",
      "source": "train_1 = train\ntest_1 = test",
      "execution_count": null,
      "outputs": []
    },
    {
      "metadata": {
        "collapsed": true,
        "trusted": true,
        "_uuid": "3244935a94527b69c0f3d9244b79b884cd256923"
      },
      "cell_type": "code",
      "source": "wordcld = pd.Series(test_1['item_name'].tolist()).astype(str)",
      "execution_count": null,
      "outputs": []
    },
    {
      "metadata": {
        "trusted": true,
        "collapsed": true,
        "_uuid": "319a22e0273cdbe3f80cc35ef18872825e11904d"
      },
      "cell_type": "code",
      "source": "print(wordcld)",
      "execution_count": null,
      "outputs": []
    },
    {
      "metadata": {
        "trusted": true,
        "collapsed": true,
        "_uuid": "aec37dcc5af6c6a4bedff031a35eeb5ba10b8f22"
      },
      "cell_type": "code",
      "source": "from wordcloud import WordCloud\n#wc = WordCloud(margin=1, max_font_size=100,background_color=\"yellow\")\nwc = WordCloud(margin=1, max_font_size=100,background_color=None,mode=\"RGBA\")\nwc.generate(' '.join(wordcld.astype(str)))",
      "execution_count": null,
      "outputs": []
    },
    {
      "metadata": {
        "collapsed": true,
        "trusted": true,
        "_uuid": "48ad3d14efaea3c20b60c242953e56187aa541a1"
      },
      "cell_type": "code",
      "source": "%matplotlib inline\nfig, ax = plt.subplots(figsize=(10,10))\nplt.imshow(wc,interpolation='bilinear')",
      "execution_count": null,
      "outputs": []
    },
    {
      "metadata": {
        "trusted": true,
        "collapsed": true,
        "_uuid": "ade10ed3ac4e474fc879cbb2fa9238679485b431"
      },
      "cell_type": "code",
      "source": "print(test_1['shop_name'])",
      "execution_count": null,
      "outputs": []
    },
    {
      "metadata": {
        "_cell_guid": "4bd0d55c-fab2-4fbf-99fe-b1b872d87edc",
        "_uuid": "050753c4b518b074835b28c63873fa43563a2792",
        "trusted": true,
        "collapsed": true
      },
      "cell_type": "code",
      "source": "for c in ['shop_name','item_name','item_category_name']:\n    #Preprocessing\n    #transforming the prediction target (Label Encoding)\n    le = preprocessing.LabelEncoder()\n    le.fit(list(train[c].unique())+list(test[c].unique()))\n    #list(le.classes_)\n    train[c] = le.fit_transform(train[c].astype(str))\n    test[c] = le.fit_transform(test[c].astype(str))\n    print(c)\n    \n    \n\n",
      "execution_count": null,
      "outputs": []
    },
    {
      "metadata": {
        "_cell_guid": "fd863949-0050-45ad-a00f-cb4ba6449ade",
        "_uuid": "1a3b91dbbf1d76375919cd6c6230d3677c036252",
        "collapsed": true,
        "trusted": true
      },
      "cell_type": "code",
      "source": "print(train['item_category_name'])",
      "execution_count": null,
      "outputs": []
    },
    {
      "metadata": {
        "_cell_guid": "07833205-32b4-40c3-ab85-3095443cd351",
        "_uuid": "c76614dcd24cd72bf9e2872d63a4af3f175dc2dd",
        "trusted": true,
        "collapsed": true
      },
      "cell_type": "code",
      "source": "#Training Models from train dataset\ncol = [c for c in train.columns if c not in ['item_cnt_month']]  #because item_cnt_month needs to be predicted on the basis of previous results\nprint(col)",
      "execution_count": null,
      "outputs": []
    },
    {
      "metadata": {
        "_cell_guid": "714d6578-0973-4bdd-b585-d27af4b3ca12",
        "_uuid": "2c4d9ef03ac59a3731e525429a81d5a4e5227189",
        "trusted": true,
        "collapsed": true
      },
      "cell_type": "code",
      "source": "x1 = train[train['date_block_num']<33] #33 means before oct 2015\ny1 = np.log1p(x1['item_cnt_month'].clip(0.,20.))  #result set \n#Clip (limit) the values in an array.Given an interval, values outside the interval are clipped to the interval edges. For example, if an interval of [0, 1] is specified, values smaller than 0 become 0, and values larger than 1 become 1.\nx1 = x1[col] #without including result set 'item_cnt_month' (data before oct 2015)\nprint(x1)",
      "execution_count": null,
      "outputs": []
    },
    {
      "metadata": {
        "_cell_guid": "a984442f-3344-48fd-bb2e-988ba6486ee5",
        "_uuid": "eab525a59ee88dc6504fed743141f756806514ee",
        "collapsed": true,
        "trusted": true
      },
      "cell_type": "code",
      "source": "x2 = train[train['date_block_num']==33]  #33 means oct 2015\ny2 = np.log1p(x2['item_cnt_month'].clip(0.,20.))\nx2 = x2[col]\n#print(x2)",
      "execution_count": null,
      "outputs": []
    },
    {
      "metadata": {
        "_cell_guid": "d7395c18-bb2b-491b-b798-3c85860c7dc1",
        "_uuid": "b95414a69b72eb4bfb50b4df2cb9a00fdde450b2",
        "collapsed": true,
        "trusted": true
      },
      "cell_type": "code",
      "source": "print(x2)",
      "execution_count": null,
      "outputs": []
    },
    {
      "metadata": {
        "_cell_guid": "b35866c1-bc03-4e99-8bd8-842dfd3382e3",
        "_uuid": "ffd08502c033610ab9f60d06552f0dbfbca92e1a",
        "trusted": true,
        "collapsed": true
      },
      "cell_type": "code",
      "source": "#training on x1 and y1 i.e less then oct 2015`s data\nreg = ensemble.ExtraTreesRegressor(n_estimators=25, n_jobs=-1, max_depth=15, random_state=18) #n_estimators(by default 10) no of trees in a forest, n_jobs=-1 means hen the number of jobs is set to the number of cores. #random_state is seed value\n#Random forests or random decision forests are an ensemble learning method for classification, regression and other tasks, that operate by constructing a multitude of decision trees at training time and outputting the class that is the mode of the classes (classification) or mean prediction (regression)\n#ensemble learning on decsion trees\nreg.fit(x1,y1) #building forest trees  #reg(model)\n#Root Mean Square between train(true-train df(for oct 2015 i.e x2 y2)) and prediction\n#error\n#test for nov 2015`s  prediction on the basis of oct 2015 data \n#what we got accuracy is of about 0.8\nprint ('RMSE:',np.sqrt(metrics.mean_squared_error(y2.clip(0.,20.),reg.predict(x2).clip(0.,20.)))) #reg.predict - Predict regression target for X.\n",
      "execution_count": null,
      "outputs": []
    },
    {
      "metadata": {
        "_cell_guid": "671f142d-d4eb-4cba-89f4-e77f39a75738",
        "_uuid": "dc41c032ff0ca380987e757fb9af861874ea9749",
        "collapsed": true,
        "trusted": true
      },
      "cell_type": "code",
      "source": "print(train[col])",
      "execution_count": null,
      "outputs": []
    },
    {
      "metadata": {
        "_cell_guid": "3ccf7692-79df-4bb4-a6a5-08717b31258e",
        "_uuid": "4ce9b7ae65678ac60acb90f7c973b31c64921528",
        "collapsed": true,
        "trusted": true
      },
      "cell_type": "code",
      "source": "#training on full training set(including oct 2015)\nreg.fit(train[col],train['item_cnt_month'].clip(0.,20.))\ntest['item_cnt_month'] = 0.\ntest['item_cnt_month'] = reg.predict(test[col]).clip(0.,20.) # reg.predict- Predict regression target for X.#and put inside test file where item_cnt_month is zero\n#test_1 = pd.merge(test_1,test,how='left',on=['item_id','shop_id','item_category_id'])\nprint(test[['ID','item_cnt_month']])\n#print(test['item_cnt_month])\n#test[['ID','shop_name','item_name','item_category_name','item_cnt_month']].to_csv('submission.csv', index=False)",
      "execution_count": null,
      "outputs": []
    },
    {
      "metadata": {
        "collapsed": true,
        "trusted": true,
        "_uuid": "b98183623b959388b83b042725685aafa725c432"
      },
      "cell_type": "code",
      "source": "#test_1 = pd.merge(test_1,test,how='left',on=['item_id','shop_id','item_category_id'])\n#test_2 = pd.merge(test[['shop_id','item_category_id','item_id','item_cnt_month']],test_1[['shop_id','item_category_id','item_id','shop_name','item_name','item_category_name']],how='left',on=['shop_id','item_category_id','item_id'])",
      "execution_count": null,
      "outputs": []
    },
    {
      "metadata": {
        "trusted": true,
        "collapsed": true,
        "_uuid": "a0fec89e92b61698c5f91337d32f72bc62cfd35e"
      },
      "cell_type": "code",
      "source": "#print(test_1)",
      "execution_count": null,
      "outputs": []
    },
    {
      "metadata": {
        "trusted": true,
        "collapsed": true,
        "_uuid": "009788b79e80be5c4d5af2ead2d57611df55be65"
      },
      "cell_type": "code",
      "source": "test_1.columns",
      "execution_count": null,
      "outputs": []
    },
    {
      "metadata": {
        "trusted": true,
        "collapsed": true,
        "_uuid": "e688086a79599482d78cb8c1f4b5747d23f15e28"
      },
      "cell_type": "code",
      "source": "print(test_1['shop_name_y'])",
      "execution_count": null,
      "outputs": []
    },
    {
      "metadata": {
        "_cell_guid": "72cac87e-2428-4a3d-8928-6089fc1b6d49",
        "_uuid": "b3be754b50dbdafc39e38950d4d34b417be2da18",
        "trusted": true,
        "collapsed": true
      },
      "cell_type": "code",
      "source": "#prdiction for nov 2015 \nprint(test[['ID','shop_name','item_name','item_category_name','item_cnt_month']])",
      "execution_count": null,
      "outputs": []
    },
    {
      "metadata": {
        "_cell_guid": "69596dc3-9479-4e71-9a64-f32e6b0eb055",
        "_uuid": "8a117a0c342b859b887e0fbb3e3a099f913c4cc1",
        "collapsed": true,
        "trusted": true
      },
      "cell_type": "code",
      "source": "stores_hm =test.pivot_table(index='item_name', values='item_cnt_month', aggfunc='sum', fill_value=0)\n%matplotlib inline\nfig, ax = plt.subplots(figsize=(10,10))\n#generating heat map\nax = sns.heatmap(stores_hm, ax=ax, cbar=True)\n#ax = sns.barplot(x=\"item_name\", y=\"Prediction(nov15)\", data=stores_hm ,label=\"Total\", color=\"b\")",
      "execution_count": null,
      "outputs": []
    },
    {
      "metadata": {
        "_cell_guid": "ec6c4d48-64ba-4dbd-9f72-6bd979798c06",
        "_uuid": "4ef37c70989f176ca0f1f414c55922d444edaaa6",
        "collapsed": true,
        "trusted": true
      },
      "cell_type": "code",
      "source": "wc.generate(' '.join(wordcld.astype(str)))",
      "execution_count": null,
      "outputs": []
    },
    {
      "metadata": {
        "_cell_guid": "d6f1b3b3-6eb3-4354-99bb-b6ee361c6076",
        "_uuid": "f51d28041e259c989562a4183cf5f6c3a8f04418",
        "collapsed": true,
        "trusted": true
      },
      "cell_type": "code",
      "source": "",
      "execution_count": null,
      "outputs": []
    }
  ],
  "metadata": {
    "kernelspec": {
      "display_name": "Python 3",
      "language": "python",
      "name": "python3"
    },
    "language_info": {
      "codemirror_mode": {
        "name": "ipython",
        "version": 3
      },
      "file_extension": ".py",
      "mimetype": "text/x-python",
      "name": "python",
      "nbconvert_exporter": "python",
      "pygments_lexer": "ipython3",
      "version": "3.6.4"
    }
  },
  "nbformat": 4,
  "nbformat_minor": 1
}